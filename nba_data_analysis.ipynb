{
 "cells": [
  {
   "cell_type": "code",
   "execution_count": 1,
   "metadata": {},
   "outputs": [],
   "source": [
    "import pandas as pd\n",
    "import plotly.express as px\n",
    "import plotly.graph_objects as go\n",
    "pd.set_option('display.max_columns', None)\n",
    "\n",
    "data = pd.read_excel('nba_player_data.xlsx')"
   ]
  },
  {
   "cell_type": "code",
   "execution_count": 2,
   "metadata": {},
   "outputs": [
    {
     "data": {
      "text/html": [
       "<div>\n",
       "<style scoped>\n",
       "    .dataframe tbody tr th:only-of-type {\n",
       "        vertical-align: middle;\n",
       "    }\n",
       "\n",
       "    .dataframe tbody tr th {\n",
       "        vertical-align: top;\n",
       "    }\n",
       "\n",
       "    .dataframe thead th {\n",
       "        text-align: right;\n",
       "    }\n",
       "</style>\n",
       "<table border=\"1\" class=\"dataframe\">\n",
       "  <thead>\n",
       "    <tr style=\"text-align: right;\">\n",
       "      <th></th>\n",
       "      <th>Years</th>\n",
       "      <th>Season_type</th>\n",
       "      <th>PLAYER_ID</th>\n",
       "      <th>RANK</th>\n",
       "      <th>PLAYER</th>\n",
       "      <th>TEAM_ID</th>\n",
       "      <th>TEAM</th>\n",
       "      <th>GP</th>\n",
       "      <th>MIN</th>\n",
       "      <th>FGM</th>\n",
       "      <th>FGA</th>\n",
       "      <th>FG_PCT</th>\n",
       "      <th>FG3M</th>\n",
       "      <th>FG3A</th>\n",
       "      <th>FG3_PCT</th>\n",
       "      <th>FTM</th>\n",
       "      <th>FTA</th>\n",
       "      <th>FT_PCT</th>\n",
       "      <th>OREB</th>\n",
       "      <th>DREB</th>\n",
       "      <th>REB</th>\n",
       "      <th>AST</th>\n",
       "      <th>STL</th>\n",
       "      <th>BLK</th>\n",
       "      <th>TOV</th>\n",
       "      <th>PF</th>\n",
       "      <th>PTS</th>\n",
       "      <th>EFF</th>\n",
       "      <th>AST_TOV</th>\n",
       "      <th>STL_TOV</th>\n",
       "    </tr>\n",
       "  </thead>\n",
       "  <tbody>\n",
       "    <tr>\n",
       "      <th>3603</th>\n",
       "      <td>2017-18</td>\n",
       "      <td>Regular%20Season</td>\n",
       "      <td>1626168</td>\n",
       "      <td>150</td>\n",
       "      <td>Trey Lyles</td>\n",
       "      <td>1610612743</td>\n",
       "      <td>DEN</td>\n",
       "      <td>73</td>\n",
       "      <td>1391</td>\n",
       "      <td>270</td>\n",
       "      <td>550</td>\n",
       "      <td>0.491</td>\n",
       "      <td>83</td>\n",
       "      <td>218</td>\n",
       "      <td>0.381</td>\n",
       "      <td>101</td>\n",
       "      <td>143</td>\n",
       "      <td>0.706</td>\n",
       "      <td>55</td>\n",
       "      <td>292</td>\n",
       "      <td>347</td>\n",
       "      <td>91</td>\n",
       "      <td>30</td>\n",
       "      <td>34</td>\n",
       "      <td>61</td>\n",
       "      <td>111</td>\n",
       "      <td>724</td>\n",
       "      <td>843</td>\n",
       "      <td>1.49</td>\n",
       "      <td>0.49</td>\n",
       "    </tr>\n",
       "    <tr>\n",
       "      <th>1978</th>\n",
       "      <td>2014-15</td>\n",
       "      <td>Playoffs</td>\n",
       "      <td>201578</td>\n",
       "      <td>124</td>\n",
       "      <td>Marreese Speights</td>\n",
       "      <td>1610612744</td>\n",
       "      <td>GSW</td>\n",
       "      <td>10</td>\n",
       "      <td>67</td>\n",
       "      <td>14</td>\n",
       "      <td>42</td>\n",
       "      <td>0.333</td>\n",
       "      <td>0</td>\n",
       "      <td>0</td>\n",
       "      <td>0.000</td>\n",
       "      <td>9</td>\n",
       "      <td>15</td>\n",
       "      <td>0.600</td>\n",
       "      <td>8</td>\n",
       "      <td>13</td>\n",
       "      <td>21</td>\n",
       "      <td>4</td>\n",
       "      <td>4</td>\n",
       "      <td>3</td>\n",
       "      <td>4</td>\n",
       "      <td>14</td>\n",
       "      <td>37</td>\n",
       "      <td>31</td>\n",
       "      <td>1.00</td>\n",
       "      <td>1.00</td>\n",
       "    </tr>\n",
       "    <tr>\n",
       "      <th>1309</th>\n",
       "      <td>2013-14</td>\n",
       "      <td>Playoffs</td>\n",
       "      <td>201965</td>\n",
       "      <td>150</td>\n",
       "      <td>Jeff Ayres</td>\n",
       "      <td>1610612759</td>\n",
       "      <td>SAS</td>\n",
       "      <td>17</td>\n",
       "      <td>65</td>\n",
       "      <td>6</td>\n",
       "      <td>13</td>\n",
       "      <td>0.462</td>\n",
       "      <td>0</td>\n",
       "      <td>0</td>\n",
       "      <td>0.000</td>\n",
       "      <td>5</td>\n",
       "      <td>8</td>\n",
       "      <td>0.625</td>\n",
       "      <td>6</td>\n",
       "      <td>13</td>\n",
       "      <td>19</td>\n",
       "      <td>5</td>\n",
       "      <td>0</td>\n",
       "      <td>0</td>\n",
       "      <td>1</td>\n",
       "      <td>6</td>\n",
       "      <td>17</td>\n",
       "      <td>30</td>\n",
       "      <td>5.00</td>\n",
       "      <td>0.00</td>\n",
       "    </tr>\n",
       "    <tr>\n",
       "      <th>3330</th>\n",
       "      <td>2016-17</td>\n",
       "      <td>Playoffs</td>\n",
       "      <td>101135</td>\n",
       "      <td>91</td>\n",
       "      <td>David Lee</td>\n",
       "      <td>1610612759</td>\n",
       "      <td>SAS</td>\n",
       "      <td>15</td>\n",
       "      <td>245</td>\n",
       "      <td>25</td>\n",
       "      <td>48</td>\n",
       "      <td>0.521</td>\n",
       "      <td>0</td>\n",
       "      <td>1</td>\n",
       "      <td>0.000</td>\n",
       "      <td>11</td>\n",
       "      <td>17</td>\n",
       "      <td>0.647</td>\n",
       "      <td>20</td>\n",
       "      <td>37</td>\n",
       "      <td>57</td>\n",
       "      <td>11</td>\n",
       "      <td>4</td>\n",
       "      <td>5</td>\n",
       "      <td>6</td>\n",
       "      <td>20</td>\n",
       "      <td>61</td>\n",
       "      <td>103</td>\n",
       "      <td>1.83</td>\n",
       "      <td>0.67</td>\n",
       "    </tr>\n",
       "    <tr>\n",
       "      <th>4905</th>\n",
       "      <td>2018-19</td>\n",
       "      <td>Playoffs</td>\n",
       "      <td>1627824</td>\n",
       "      <td>171</td>\n",
       "      <td>Guerschon Yabusele</td>\n",
       "      <td>1610612738</td>\n",
       "      <td>BOS</td>\n",
       "      <td>4</td>\n",
       "      <td>14</td>\n",
       "      <td>2</td>\n",
       "      <td>4</td>\n",
       "      <td>0.500</td>\n",
       "      <td>0</td>\n",
       "      <td>1</td>\n",
       "      <td>0.000</td>\n",
       "      <td>4</td>\n",
       "      <td>7</td>\n",
       "      <td>0.571</td>\n",
       "      <td>1</td>\n",
       "      <td>1</td>\n",
       "      <td>2</td>\n",
       "      <td>1</td>\n",
       "      <td>0</td>\n",
       "      <td>1</td>\n",
       "      <td>1</td>\n",
       "      <td>3</td>\n",
       "      <td>8</td>\n",
       "      <td>6</td>\n",
       "      <td>1.00</td>\n",
       "      <td>0.00</td>\n",
       "    </tr>\n",
       "    <tr>\n",
       "      <th>4789</th>\n",
       "      <td>2018-19</td>\n",
       "      <td>Playoffs</td>\n",
       "      <td>1628378</td>\n",
       "      <td>55</td>\n",
       "      <td>Donovan Mitchell</td>\n",
       "      <td>1610612762</td>\n",
       "      <td>UTA</td>\n",
       "      <td>5</td>\n",
       "      <td>193</td>\n",
       "      <td>36</td>\n",
       "      <td>112</td>\n",
       "      <td>0.321</td>\n",
       "      <td>11</td>\n",
       "      <td>43</td>\n",
       "      <td>0.256</td>\n",
       "      <td>24</td>\n",
       "      <td>33</td>\n",
       "      <td>0.727</td>\n",
       "      <td>7</td>\n",
       "      <td>18</td>\n",
       "      <td>25</td>\n",
       "      <td>16</td>\n",
       "      <td>8</td>\n",
       "      <td>1</td>\n",
       "      <td>21</td>\n",
       "      <td>15</td>\n",
       "      <td>107</td>\n",
       "      <td>51</td>\n",
       "      <td>0.76</td>\n",
       "      <td>0.38</td>\n",
       "    </tr>\n",
       "    <tr>\n",
       "      <th>816</th>\n",
       "      <td>2013-14</td>\n",
       "      <td>Regular%20Season</td>\n",
       "      <td>200782</td>\n",
       "      <td>139</td>\n",
       "      <td>P.J. Tucker</td>\n",
       "      <td>1610612756</td>\n",
       "      <td>PHX</td>\n",
       "      <td>81</td>\n",
       "      <td>2490</td>\n",
       "      <td>265</td>\n",
       "      <td>615</td>\n",
       "      <td>0.431</td>\n",
       "      <td>74</td>\n",
       "      <td>191</td>\n",
       "      <td>0.387</td>\n",
       "      <td>156</td>\n",
       "      <td>201</td>\n",
       "      <td>0.776</td>\n",
       "      <td>161</td>\n",
       "      <td>368</td>\n",
       "      <td>529</td>\n",
       "      <td>141</td>\n",
       "      <td>110</td>\n",
       "      <td>23</td>\n",
       "      <td>102</td>\n",
       "      <td>204</td>\n",
       "      <td>760</td>\n",
       "      <td>1066</td>\n",
       "      <td>1.38</td>\n",
       "      <td>1.08</td>\n",
       "    </tr>\n",
       "    <tr>\n",
       "      <th>5710</th>\n",
       "      <td>2020-21</td>\n",
       "      <td>Regular%20Season</td>\n",
       "      <td>201566</td>\n",
       "      <td>19</td>\n",
       "      <td>Russell Westbrook</td>\n",
       "      <td>1610612764</td>\n",
       "      <td>WAS</td>\n",
       "      <td>65</td>\n",
       "      <td>2369</td>\n",
       "      <td>544</td>\n",
       "      <td>1238</td>\n",
       "      <td>0.439</td>\n",
       "      <td>86</td>\n",
       "      <td>273</td>\n",
       "      <td>0.315</td>\n",
       "      <td>271</td>\n",
       "      <td>413</td>\n",
       "      <td>0.656</td>\n",
       "      <td>109</td>\n",
       "      <td>641</td>\n",
       "      <td>750</td>\n",
       "      <td>763</td>\n",
       "      <td>89</td>\n",
       "      <td>23</td>\n",
       "      <td>312</td>\n",
       "      <td>190</td>\n",
       "      <td>1445</td>\n",
       "      <td>1922</td>\n",
       "      <td>2.45</td>\n",
       "      <td>0.28</td>\n",
       "    </tr>\n",
       "    <tr>\n",
       "      <th>4160</th>\n",
       "      <td>2017-18</td>\n",
       "      <td>Playoffs</td>\n",
       "      <td>203485</td>\n",
       "      <td>167</td>\n",
       "      <td>Lorenzo Brown</td>\n",
       "      <td>1610612761</td>\n",
       "      <td>TOR</td>\n",
       "      <td>4</td>\n",
       "      <td>29</td>\n",
       "      <td>3</td>\n",
       "      <td>10</td>\n",
       "      <td>0.300</td>\n",
       "      <td>2</td>\n",
       "      <td>5</td>\n",
       "      <td>0.400</td>\n",
       "      <td>1</td>\n",
       "      <td>2</td>\n",
       "      <td>0.500</td>\n",
       "      <td>1</td>\n",
       "      <td>5</td>\n",
       "      <td>6</td>\n",
       "      <td>2</td>\n",
       "      <td>0</td>\n",
       "      <td>1</td>\n",
       "      <td>1</td>\n",
       "      <td>2</td>\n",
       "      <td>9</td>\n",
       "      <td>9</td>\n",
       "      <td>2.00</td>\n",
       "      <td>0.00</td>\n",
       "    </tr>\n",
       "    <tr>\n",
       "      <th>2592</th>\n",
       "      <td>2015-16</td>\n",
       "      <td>Playoffs</td>\n",
       "      <td>101106</td>\n",
       "      <td>55</td>\n",
       "      <td>Andrew Bogut</td>\n",
       "      <td>1610612744</td>\n",
       "      <td>GSW</td>\n",
       "      <td>22</td>\n",
       "      <td>365</td>\n",
       "      <td>48</td>\n",
       "      <td>77</td>\n",
       "      <td>0.623</td>\n",
       "      <td>0</td>\n",
       "      <td>2</td>\n",
       "      <td>0.000</td>\n",
       "      <td>5</td>\n",
       "      <td>14</td>\n",
       "      <td>0.357</td>\n",
       "      <td>47</td>\n",
       "      <td>78</td>\n",
       "      <td>125</td>\n",
       "      <td>30</td>\n",
       "      <td>14</td>\n",
       "      <td>35</td>\n",
       "      <td>19</td>\n",
       "      <td>72</td>\n",
       "      <td>101</td>\n",
       "      <td>248</td>\n",
       "      <td>1.58</td>\n",
       "      <td>0.74</td>\n",
       "    </tr>\n",
       "  </tbody>\n",
       "</table>\n",
       "</div>"
      ],
      "text/plain": [
       "        Years       Season_type  PLAYER_ID  RANK              PLAYER  \\\n",
       "3603  2017-18  Regular%20Season    1626168   150          Trey Lyles   \n",
       "1978  2014-15          Playoffs     201578   124   Marreese Speights   \n",
       "1309  2013-14          Playoffs     201965   150          Jeff Ayres   \n",
       "3330  2016-17          Playoffs     101135    91           David Lee   \n",
       "4905  2018-19          Playoffs    1627824   171  Guerschon Yabusele   \n",
       "4789  2018-19          Playoffs    1628378    55    Donovan Mitchell   \n",
       "816   2013-14  Regular%20Season     200782   139         P.J. Tucker   \n",
       "5710  2020-21  Regular%20Season     201566    19   Russell Westbrook   \n",
       "4160  2017-18          Playoffs     203485   167       Lorenzo Brown   \n",
       "2592  2015-16          Playoffs     101106    55        Andrew Bogut   \n",
       "\n",
       "         TEAM_ID TEAM  GP   MIN  FGM   FGA  FG_PCT  FG3M  FG3A  FG3_PCT  FTM  \\\n",
       "3603  1610612743  DEN  73  1391  270   550   0.491    83   218    0.381  101   \n",
       "1978  1610612744  GSW  10    67   14    42   0.333     0     0    0.000    9   \n",
       "1309  1610612759  SAS  17    65    6    13   0.462     0     0    0.000    5   \n",
       "3330  1610612759  SAS  15   245   25    48   0.521     0     1    0.000   11   \n",
       "4905  1610612738  BOS   4    14    2     4   0.500     0     1    0.000    4   \n",
       "4789  1610612762  UTA   5   193   36   112   0.321    11    43    0.256   24   \n",
       "816   1610612756  PHX  81  2490  265   615   0.431    74   191    0.387  156   \n",
       "5710  1610612764  WAS  65  2369  544  1238   0.439    86   273    0.315  271   \n",
       "4160  1610612761  TOR   4    29    3    10   0.300     2     5    0.400    1   \n",
       "2592  1610612744  GSW  22   365   48    77   0.623     0     2    0.000    5   \n",
       "\n",
       "      FTA  FT_PCT  OREB  DREB  REB  AST  STL  BLK  TOV   PF   PTS   EFF  \\\n",
       "3603  143   0.706    55   292  347   91   30   34   61  111   724   843   \n",
       "1978   15   0.600     8    13   21    4    4    3    4   14    37    31   \n",
       "1309    8   0.625     6    13   19    5    0    0    1    6    17    30   \n",
       "3330   17   0.647    20    37   57   11    4    5    6   20    61   103   \n",
       "4905    7   0.571     1     1    2    1    0    1    1    3     8     6   \n",
       "4789   33   0.727     7    18   25   16    8    1   21   15   107    51   \n",
       "816   201   0.776   161   368  529  141  110   23  102  204   760  1066   \n",
       "5710  413   0.656   109   641  750  763   89   23  312  190  1445  1922   \n",
       "4160    2   0.500     1     5    6    2    0    1    1    2     9     9   \n",
       "2592   14   0.357    47    78  125   30   14   35   19   72   101   248   \n",
       "\n",
       "      AST_TOV  STL_TOV  \n",
       "3603     1.49     0.49  \n",
       "1978     1.00     1.00  \n",
       "1309     5.00     0.00  \n",
       "3330     1.83     0.67  \n",
       "4905     1.00     0.00  \n",
       "4789     0.76     0.38  \n",
       "816      1.38     1.08  \n",
       "5710     2.45     0.28  \n",
       "4160     2.00     0.00  \n",
       "2592     1.58     0.74  "
      ]
     },
     "execution_count": 2,
     "metadata": {},
     "output_type": "execute_result"
    }
   ],
   "source": [
    "data.sample(10)"
   ]
  },
  {
   "cell_type": "code",
   "execution_count": 3,
   "metadata": {},
   "outputs": [
    {
     "data": {
      "text/plain": [
       "(8475, 30)"
      ]
     },
     "execution_count": 3,
     "metadata": {},
     "output_type": "execute_result"
    }
   ],
   "source": [
    "data.shape"
   ]
  },
  {
   "cell_type": "markdown",
   "metadata": {},
   "source": [
    "**Data cleaning & Analysis preparation**"
   ]
  },
  {
   "cell_type": "code",
   "execution_count": 4,
   "metadata": {},
   "outputs": [],
   "source": [
    "data.drop(columns=['RANK', 'EFF'], inplace=True)"
   ]
  },
  {
   "cell_type": "code",
   "execution_count": 5,
   "metadata": {},
   "outputs": [],
   "source": [
    "data['season_start_year'] = data['Years'].str[:4].astype(int)"
   ]
  },
  {
   "cell_type": "code",
   "execution_count": 6,
   "metadata": {},
   "outputs": [],
   "source": [
    "data['TEAM'].replace(to_replace=['NOP', 'NOH'], value='NO', inplace=True)"
   ]
  },
  {
   "cell_type": "code",
   "execution_count": 7,
   "metadata": {},
   "outputs": [],
   "source": [
    "data['Season_type'].replace('Regular%20Season', 'RS', inplace=True)"
   ]
  },
  {
   "cell_type": "code",
   "execution_count": 8,
   "metadata": {},
   "outputs": [],
   "source": [
    "rs_df = data[data['Season_type']=='RS']\n",
    "po_df = data[data['Season_type']=='Playoffs']"
   ]
  },
  {
   "cell_type": "code",
   "execution_count": 9,
   "metadata": {},
   "outputs": [
    {
     "data": {
      "text/plain": [
       "Index(['Years', 'Season_type', 'PLAYER_ID', 'PLAYER', 'TEAM_ID', 'TEAM', 'GP',\n",
       "       'MIN', 'FGM', 'FGA', 'FG_PCT', 'FG3M', 'FG3A', 'FG3_PCT', 'FTM', 'FTA',\n",
       "       'FT_PCT', 'OREB', 'DREB', 'REB', 'AST', 'STL', 'BLK', 'TOV', 'PF',\n",
       "       'PTS', 'AST_TOV', 'STL_TOV', 'season_start_year'],\n",
       "      dtype='object')"
      ]
     },
     "execution_count": 9,
     "metadata": {},
     "output_type": "execute_result"
    }
   ],
   "source": [
    "data.columns\n"
   ]
  },
  {
   "cell_type": "code",
   "execution_count": 10,
   "metadata": {},
   "outputs": [],
   "source": [
    "total_cols = ['MIN', 'FGM', 'FGA', 'FG3M', 'FG3A', 'FTM', 'FTA',\n",
    "     'OREB', 'DREB', 'REB', 'AST', 'STL', 'BLK', 'TOV', 'PF', 'PTS']"
   ]
  },
  {
   "cell_type": "markdown",
   "metadata": {},
   "source": [
    "**Which Player stats are correlated with each other?**"
   ]
  },
  {
   "cell_type": "code",
   "execution_count": 11,
   "metadata": {},
   "outputs": [
    {
     "data": {
      "text/html": [
       "<div>\n",
       "<style scoped>\n",
       "    .dataframe tbody tr th:only-of-type {\n",
       "        vertical-align: middle;\n",
       "    }\n",
       "\n",
       "    .dataframe tbody tr th {\n",
       "        vertical-align: top;\n",
       "    }\n",
       "\n",
       "    .dataframe thead th {\n",
       "        text-align: right;\n",
       "    }\n",
       "</style>\n",
       "<table border=\"1\" class=\"dataframe\">\n",
       "  <thead>\n",
       "    <tr style=\"text-align: right;\">\n",
       "      <th></th>\n",
       "      <th>PLAYER</th>\n",
       "      <th>PLAYER_ID</th>\n",
       "      <th>Years</th>\n",
       "      <th>MIN</th>\n",
       "      <th>FGM</th>\n",
       "      <th>FGA</th>\n",
       "      <th>FG3M</th>\n",
       "      <th>FG3A</th>\n",
       "      <th>FTM</th>\n",
       "      <th>FTA</th>\n",
       "      <th>OREB</th>\n",
       "      <th>DREB</th>\n",
       "      <th>REB</th>\n",
       "      <th>AST</th>\n",
       "      <th>STL</th>\n",
       "      <th>BLK</th>\n",
       "      <th>TOV</th>\n",
       "      <th>PF</th>\n",
       "      <th>PTS</th>\n",
       "      <th>FG%</th>\n",
       "      <th>3PT%</th>\n",
       "      <th>FT%</th>\n",
       "      <th>FG3A%</th>\n",
       "      <th>PTS/FGA</th>\n",
       "      <th>FG3M/FGM</th>\n",
       "      <th>FTA/FGA</th>\n",
       "      <th>TRU%</th>\n",
       "      <th>AST_TOV</th>\n",
       "    </tr>\n",
       "  </thead>\n",
       "  <tbody>\n",
       "    <tr>\n",
       "      <th>0</th>\n",
       "      <td>A.J. Lawson</td>\n",
       "      <td>1630639</td>\n",
       "      <td>2022-23</td>\n",
       "      <td>108</td>\n",
       "      <td>0.203704</td>\n",
       "      <td>0.407407</td>\n",
       "      <td>0.092593</td>\n",
       "      <td>0.231481</td>\n",
       "      <td>0.018519</td>\n",
       "      <td>0.074074</td>\n",
       "      <td>0.055556</td>\n",
       "      <td>0.138889</td>\n",
       "      <td>0.194444</td>\n",
       "      <td>0.018519</td>\n",
       "      <td>0.018519</td>\n",
       "      <td>0.000000</td>\n",
       "      <td>0.027778</td>\n",
       "      <td>0.101852</td>\n",
       "      <td>0.518519</td>\n",
       "      <td>0.500000</td>\n",
       "      <td>0.400000</td>\n",
       "      <td>0.250000</td>\n",
       "      <td>0.568182</td>\n",
       "      <td>1.272727</td>\n",
       "      <td>0.454545</td>\n",
       "      <td>0.181818</td>\n",
       "      <td>0.585774</td>\n",
       "      <td>0.666667</td>\n",
       "    </tr>\n",
       "    <tr>\n",
       "      <th>1</th>\n",
       "      <td>AJ Green</td>\n",
       "      <td>1631260</td>\n",
       "      <td>2022-23</td>\n",
       "      <td>345</td>\n",
       "      <td>0.153623</td>\n",
       "      <td>0.362319</td>\n",
       "      <td>0.127536</td>\n",
       "      <td>0.304348</td>\n",
       "      <td>0.011594</td>\n",
       "      <td>0.011594</td>\n",
       "      <td>0.017391</td>\n",
       "      <td>0.113043</td>\n",
       "      <td>0.130435</td>\n",
       "      <td>0.063768</td>\n",
       "      <td>0.017391</td>\n",
       "      <td>0.000000</td>\n",
       "      <td>0.026087</td>\n",
       "      <td>0.089855</td>\n",
       "      <td>0.446377</td>\n",
       "      <td>0.424000</td>\n",
       "      <td>0.419048</td>\n",
       "      <td>1.000000</td>\n",
       "      <td>0.840000</td>\n",
       "      <td>1.232000</td>\n",
       "      <td>0.830189</td>\n",
       "      <td>0.032000</td>\n",
       "      <td>0.606777</td>\n",
       "      <td>2.444444</td>\n",
       "    </tr>\n",
       "    <tr>\n",
       "      <th>2</th>\n",
       "      <td>AJ Green</td>\n",
       "      <td>1631260</td>\n",
       "      <td>2023-24</td>\n",
       "      <td>26</td>\n",
       "      <td>0.115385</td>\n",
       "      <td>0.269231</td>\n",
       "      <td>0.076923</td>\n",
       "      <td>0.192308</td>\n",
       "      <td>0.038462</td>\n",
       "      <td>0.038462</td>\n",
       "      <td>0.000000</td>\n",
       "      <td>0.076923</td>\n",
       "      <td>0.076923</td>\n",
       "      <td>0.115385</td>\n",
       "      <td>0.000000</td>\n",
       "      <td>0.000000</td>\n",
       "      <td>0.000000</td>\n",
       "      <td>0.153846</td>\n",
       "      <td>0.346154</td>\n",
       "      <td>0.428571</td>\n",
       "      <td>0.400000</td>\n",
       "      <td>1.000000</td>\n",
       "      <td>0.714286</td>\n",
       "      <td>1.285714</td>\n",
       "      <td>0.666667</td>\n",
       "      <td>0.142857</td>\n",
       "      <td>0.602007</td>\n",
       "      <td>inf</td>\n",
       "    </tr>\n",
       "    <tr>\n",
       "      <th>3</th>\n",
       "      <td>AJ Griffin</td>\n",
       "      <td>1631100</td>\n",
       "      <td>2022-23</td>\n",
       "      <td>1401</td>\n",
       "      <td>0.177016</td>\n",
       "      <td>0.380443</td>\n",
       "      <td>0.072091</td>\n",
       "      <td>0.184868</td>\n",
       "      <td>0.029979</td>\n",
       "      <td>0.033547</td>\n",
       "      <td>0.026410</td>\n",
       "      <td>0.082798</td>\n",
       "      <td>0.109208</td>\n",
       "      <td>0.052106</td>\n",
       "      <td>0.029979</td>\n",
       "      <td>0.008565</td>\n",
       "      <td>0.029979</td>\n",
       "      <td>0.062099</td>\n",
       "      <td>0.456103</td>\n",
       "      <td>0.465291</td>\n",
       "      <td>0.389961</td>\n",
       "      <td>0.893617</td>\n",
       "      <td>0.485929</td>\n",
       "      <td>1.198874</td>\n",
       "      <td>0.407258</td>\n",
       "      <td>0.088180</td>\n",
       "      <td>0.575339</td>\n",
       "      <td>1.738095</td>\n",
       "    </tr>\n",
       "    <tr>\n",
       "      <th>4</th>\n",
       "      <td>AJ Griffin</td>\n",
       "      <td>1631100</td>\n",
       "      <td>2023-24</td>\n",
       "      <td>45</td>\n",
       "      <td>0.133333</td>\n",
       "      <td>0.266667</td>\n",
       "      <td>0.111111</td>\n",
       "      <td>0.222222</td>\n",
       "      <td>0.000000</td>\n",
       "      <td>0.000000</td>\n",
       "      <td>0.022222</td>\n",
       "      <td>0.088889</td>\n",
       "      <td>0.111111</td>\n",
       "      <td>0.044444</td>\n",
       "      <td>0.022222</td>\n",
       "      <td>0.000000</td>\n",
       "      <td>0.044444</td>\n",
       "      <td>0.022222</td>\n",
       "      <td>0.377778</td>\n",
       "      <td>0.500000</td>\n",
       "      <td>0.500000</td>\n",
       "      <td>NaN</td>\n",
       "      <td>0.833333</td>\n",
       "      <td>1.416667</td>\n",
       "      <td>0.833333</td>\n",
       "      <td>0.000000</td>\n",
       "      <td>0.708333</td>\n",
       "      <td>1.000000</td>\n",
       "    </tr>\n",
       "    <tr>\n",
       "      <th>...</th>\n",
       "      <td>...</td>\n",
       "      <td>...</td>\n",
       "      <td>...</td>\n",
       "      <td>...</td>\n",
       "      <td>...</td>\n",
       "      <td>...</td>\n",
       "      <td>...</td>\n",
       "      <td>...</td>\n",
       "      <td>...</td>\n",
       "      <td>...</td>\n",
       "      <td>...</td>\n",
       "      <td>...</td>\n",
       "      <td>...</td>\n",
       "      <td>...</td>\n",
       "      <td>...</td>\n",
       "      <td>...</td>\n",
       "      <td>...</td>\n",
       "      <td>...</td>\n",
       "      <td>...</td>\n",
       "      <td>...</td>\n",
       "      <td>...</td>\n",
       "      <td>...</td>\n",
       "      <td>...</td>\n",
       "      <td>...</td>\n",
       "      <td>...</td>\n",
       "      <td>...</td>\n",
       "      <td>...</td>\n",
       "      <td>...</td>\n",
       "    </tr>\n",
       "    <tr>\n",
       "      <th>6117</th>\n",
       "      <td>Zion Williamson</td>\n",
       "      <td>1629627</td>\n",
       "      <td>2022-23</td>\n",
       "      <td>956</td>\n",
       "      <td>0.298117</td>\n",
       "      <td>0.490586</td>\n",
       "      <td>0.007322</td>\n",
       "      <td>0.019874</td>\n",
       "      <td>0.185146</td>\n",
       "      <td>0.259414</td>\n",
       "      <td>0.060669</td>\n",
       "      <td>0.150628</td>\n",
       "      <td>0.211297</td>\n",
       "      <td>0.139121</td>\n",
       "      <td>0.033473</td>\n",
       "      <td>0.016736</td>\n",
       "      <td>0.103556</td>\n",
       "      <td>0.067992</td>\n",
       "      <td>0.788703</td>\n",
       "      <td>0.607676</td>\n",
       "      <td>0.368421</td>\n",
       "      <td>0.713710</td>\n",
       "      <td>0.040512</td>\n",
       "      <td>1.607676</td>\n",
       "      <td>0.024561</td>\n",
       "      <td>0.528785</td>\n",
       "      <td>0.642468</td>\n",
       "      <td>1.343434</td>\n",
       "    </tr>\n",
       "    <tr>\n",
       "      <th>6118</th>\n",
       "      <td>Zion Williamson</td>\n",
       "      <td>1629627</td>\n",
       "      <td>2023-24</td>\n",
       "      <td>123</td>\n",
       "      <td>0.284553</td>\n",
       "      <td>0.560976</td>\n",
       "      <td>0.000000</td>\n",
       "      <td>0.008130</td>\n",
       "      <td>0.130081</td>\n",
       "      <td>0.219512</td>\n",
       "      <td>0.121951</td>\n",
       "      <td>0.097561</td>\n",
       "      <td>0.219512</td>\n",
       "      <td>0.130081</td>\n",
       "      <td>0.024390</td>\n",
       "      <td>0.000000</td>\n",
       "      <td>0.097561</td>\n",
       "      <td>0.081301</td>\n",
       "      <td>0.699187</td>\n",
       "      <td>0.507246</td>\n",
       "      <td>0.000000</td>\n",
       "      <td>0.592593</td>\n",
       "      <td>0.014493</td>\n",
       "      <td>1.246377</td>\n",
       "      <td>0.000000</td>\n",
       "      <td>0.391304</td>\n",
       "      <td>0.525512</td>\n",
       "      <td>1.333333</td>\n",
       "    </tr>\n",
       "    <tr>\n",
       "      <th>6119</th>\n",
       "      <td>Zoran Dragic</td>\n",
       "      <td>204054</td>\n",
       "      <td>2014-15</td>\n",
       "      <td>75</td>\n",
       "      <td>0.146667</td>\n",
       "      <td>0.400000</td>\n",
       "      <td>0.040000</td>\n",
       "      <td>0.186667</td>\n",
       "      <td>0.040000</td>\n",
       "      <td>0.066667</td>\n",
       "      <td>0.066667</td>\n",
       "      <td>0.040000</td>\n",
       "      <td>0.106667</td>\n",
       "      <td>0.066667</td>\n",
       "      <td>0.026667</td>\n",
       "      <td>0.000000</td>\n",
       "      <td>0.066667</td>\n",
       "      <td>0.080000</td>\n",
       "      <td>0.373333</td>\n",
       "      <td>0.366667</td>\n",
       "      <td>0.214286</td>\n",
       "      <td>0.600000</td>\n",
       "      <td>0.466667</td>\n",
       "      <td>0.933333</td>\n",
       "      <td>0.272727</td>\n",
       "      <td>0.166667</td>\n",
       "      <td>0.432432</td>\n",
       "      <td>1.000000</td>\n",
       "    </tr>\n",
       "    <tr>\n",
       "      <th>6120</th>\n",
       "      <td>Zylan Cheatham</td>\n",
       "      <td>1629597</td>\n",
       "      <td>2019-20</td>\n",
       "      <td>51</td>\n",
       "      <td>0.117647</td>\n",
       "      <td>0.176471</td>\n",
       "      <td>0.000000</td>\n",
       "      <td>0.019608</td>\n",
       "      <td>0.000000</td>\n",
       "      <td>0.000000</td>\n",
       "      <td>0.058824</td>\n",
       "      <td>0.117647</td>\n",
       "      <td>0.176471</td>\n",
       "      <td>0.058824</td>\n",
       "      <td>0.019608</td>\n",
       "      <td>0.019608</td>\n",
       "      <td>0.078431</td>\n",
       "      <td>0.196078</td>\n",
       "      <td>0.235294</td>\n",
       "      <td>0.666667</td>\n",
       "      <td>0.000000</td>\n",
       "      <td>NaN</td>\n",
       "      <td>0.111111</td>\n",
       "      <td>1.333333</td>\n",
       "      <td>0.000000</td>\n",
       "      <td>0.000000</td>\n",
       "      <td>0.666667</td>\n",
       "      <td>0.750000</td>\n",
       "    </tr>\n",
       "    <tr>\n",
       "      <th>6121</th>\n",
       "      <td>Zylan Cheatham</td>\n",
       "      <td>1629597</td>\n",
       "      <td>2021-22</td>\n",
       "      <td>5</td>\n",
       "      <td>0.000000</td>\n",
       "      <td>0.600000</td>\n",
       "      <td>0.000000</td>\n",
       "      <td>0.400000</td>\n",
       "      <td>0.000000</td>\n",
       "      <td>0.000000</td>\n",
       "      <td>0.000000</td>\n",
       "      <td>0.000000</td>\n",
       "      <td>0.000000</td>\n",
       "      <td>0.000000</td>\n",
       "      <td>0.000000</td>\n",
       "      <td>0.000000</td>\n",
       "      <td>0.000000</td>\n",
       "      <td>0.000000</td>\n",
       "      <td>0.000000</td>\n",
       "      <td>0.000000</td>\n",
       "      <td>0.000000</td>\n",
       "      <td>NaN</td>\n",
       "      <td>0.666667</td>\n",
       "      <td>0.000000</td>\n",
       "      <td>NaN</td>\n",
       "      <td>0.000000</td>\n",
       "      <td>0.000000</td>\n",
       "      <td>NaN</td>\n",
       "    </tr>\n",
       "  </tbody>\n",
       "</table>\n",
       "<p>6122 rows × 28 columns</p>\n",
       "</div>"
      ],
      "text/plain": [
       "               PLAYER  PLAYER_ID    Years   MIN       FGM       FGA      FG3M  \\\n",
       "0         A.J. Lawson    1630639  2022-23   108  0.203704  0.407407  0.092593   \n",
       "1            AJ Green    1631260  2022-23   345  0.153623  0.362319  0.127536   \n",
       "2            AJ Green    1631260  2023-24    26  0.115385  0.269231  0.076923   \n",
       "3          AJ Griffin    1631100  2022-23  1401  0.177016  0.380443  0.072091   \n",
       "4          AJ Griffin    1631100  2023-24    45  0.133333  0.266667  0.111111   \n",
       "...               ...        ...      ...   ...       ...       ...       ...   \n",
       "6117  Zion Williamson    1629627  2022-23   956  0.298117  0.490586  0.007322   \n",
       "6118  Zion Williamson    1629627  2023-24   123  0.284553  0.560976  0.000000   \n",
       "6119     Zoran Dragic     204054  2014-15    75  0.146667  0.400000  0.040000   \n",
       "6120   Zylan Cheatham    1629597  2019-20    51  0.117647  0.176471  0.000000   \n",
       "6121   Zylan Cheatham    1629597  2021-22     5  0.000000  0.600000  0.000000   \n",
       "\n",
       "          FG3A       FTM       FTA      OREB      DREB       REB       AST  \\\n",
       "0     0.231481  0.018519  0.074074  0.055556  0.138889  0.194444  0.018519   \n",
       "1     0.304348  0.011594  0.011594  0.017391  0.113043  0.130435  0.063768   \n",
       "2     0.192308  0.038462  0.038462  0.000000  0.076923  0.076923  0.115385   \n",
       "3     0.184868  0.029979  0.033547  0.026410  0.082798  0.109208  0.052106   \n",
       "4     0.222222  0.000000  0.000000  0.022222  0.088889  0.111111  0.044444   \n",
       "...        ...       ...       ...       ...       ...       ...       ...   \n",
       "6117  0.019874  0.185146  0.259414  0.060669  0.150628  0.211297  0.139121   \n",
       "6118  0.008130  0.130081  0.219512  0.121951  0.097561  0.219512  0.130081   \n",
       "6119  0.186667  0.040000  0.066667  0.066667  0.040000  0.106667  0.066667   \n",
       "6120  0.019608  0.000000  0.000000  0.058824  0.117647  0.176471  0.058824   \n",
       "6121  0.400000  0.000000  0.000000  0.000000  0.000000  0.000000  0.000000   \n",
       "\n",
       "           STL       BLK       TOV        PF       PTS       FG%      3PT%  \\\n",
       "0     0.018519  0.000000  0.027778  0.101852  0.518519  0.500000  0.400000   \n",
       "1     0.017391  0.000000  0.026087  0.089855  0.446377  0.424000  0.419048   \n",
       "2     0.000000  0.000000  0.000000  0.153846  0.346154  0.428571  0.400000   \n",
       "3     0.029979  0.008565  0.029979  0.062099  0.456103  0.465291  0.389961   \n",
       "4     0.022222  0.000000  0.044444  0.022222  0.377778  0.500000  0.500000   \n",
       "...        ...       ...       ...       ...       ...       ...       ...   \n",
       "6117  0.033473  0.016736  0.103556  0.067992  0.788703  0.607676  0.368421   \n",
       "6118  0.024390  0.000000  0.097561  0.081301  0.699187  0.507246  0.000000   \n",
       "6119  0.026667  0.000000  0.066667  0.080000  0.373333  0.366667  0.214286   \n",
       "6120  0.019608  0.019608  0.078431  0.196078  0.235294  0.666667  0.000000   \n",
       "6121  0.000000  0.000000  0.000000  0.000000  0.000000  0.000000  0.000000   \n",
       "\n",
       "           FT%     FG3A%   PTS/FGA  FG3M/FGM   FTA/FGA      TRU%   AST_TOV  \n",
       "0     0.250000  0.568182  1.272727  0.454545  0.181818  0.585774  0.666667  \n",
       "1     1.000000  0.840000  1.232000  0.830189  0.032000  0.606777  2.444444  \n",
       "2     1.000000  0.714286  1.285714  0.666667  0.142857  0.602007       inf  \n",
       "3     0.893617  0.485929  1.198874  0.407258  0.088180  0.575339  1.738095  \n",
       "4          NaN  0.833333  1.416667  0.833333  0.000000  0.708333  1.000000  \n",
       "...        ...       ...       ...       ...       ...       ...       ...  \n",
       "6117  0.713710  0.040512  1.607676  0.024561  0.528785  0.642468  1.343434  \n",
       "6118  0.592593  0.014493  1.246377  0.000000  0.391304  0.525512  1.333333  \n",
       "6119  0.600000  0.466667  0.933333  0.272727  0.166667  0.432432  1.000000  \n",
       "6120       NaN  0.111111  1.333333  0.000000  0.000000  0.666667  0.750000  \n",
       "6121       NaN  0.666667  0.000000       NaN  0.000000  0.000000       NaN  \n",
       "\n",
       "[6122 rows x 28 columns]"
      ]
     },
     "execution_count": 11,
     "metadata": {},
     "output_type": "execute_result"
    }
   ],
   "source": [
    "data_per_min = data.groupby(['PLAYER', 'PLAYER_ID', 'Years'])[total_cols].sum().reset_index()\n",
    "for col in data_per_min.columns[4:]:\n",
    "    data_per_min[col] = data_per_min[col]/data_per_min['MIN']\n",
    "\n",
    "data_per_min['FG%'] = data_per_min['FGM'] / data_per_min['FGA']\n",
    "data_per_min['3PT%'] = data_per_min['FG3M'] / data_per_min['FG3A']\n",
    "data_per_min['FT%'] = data_per_min['FTM'] / data_per_min['FTA']\n",
    "data_per_min['FG3A%'] = data_per_min['FG3A'] / data_per_min['FGA']\n",
    "data_per_min['PTS/FGA'] = data_per_min['PTS'] / data_per_min['FGA']\n",
    "data_per_min['FG3M/FGM'] = data_per_min['FG3M'] / data_per_min['FGM']\n",
    "data_per_min['FTA/FGA'] = data_per_min['FTA'] / data_per_min['FGA']\n",
    "data_per_min['TRU%'] = 0.5*data_per_min['PTS']/(data_per_min['FGA']+0.475*data_per_min['FTA'])\n",
    "data_per_min['AST_TOV'] = data_per_min['AST']/data_per_min['TOV']\n",
    "\n",
    "data_per_min"
   ]
  },
  {
   "cell_type": "code",
   "execution_count": 12,
   "metadata": {},
   "outputs": [
    {
     "data": {
      "application/vnd.plotly.v1+json": {
       "config": {
        "plotlyServerURL": "https://plot.ly"
       },
       "data": [
        {
         "coloraxis": "coloraxis",
         "hovertemplate": "x: %{x}<br>y: %{y}<br>color: %{z}<extra></extra>",
         "name": "0",
         "type": "heatmap",
         "x": [
          "MIN",
          "FGM",
          "FGA",
          "FG3M",
          "FG3A",
          "FTM",
          "FTA",
          "OREB",
          "DREB",
          "REB",
          "AST",
          "STL",
          "BLK",
          "TOV",
          "PF",
          "PTS",
          "FG%",
          "3PT%",
          "FT%",
          "FG3A%",
          "PTS/FGA",
          "FG3M/FGM",
          "FTA/FGA",
          "TRU%",
          "AST_TOV"
         ],
         "xaxis": "x",
         "y": [
          "MIN",
          "FGM",
          "FGA",
          "FG3M",
          "FG3A",
          "FTM",
          "FTA",
          "OREB",
          "DREB",
          "REB",
          "AST",
          "STL",
          "BLK",
          "TOV",
          "PF",
          "PTS",
          "FG%",
          "3PT%",
          "FT%",
          "FG3A%",
          "PTS/FGA",
          "FG3M/FGM",
          "FTA/FGA",
          "TRU%",
          "AST_TOV"
         ],
         "yaxis": "y",
         "z": [
          [
           1,
           0.3762072815571744,
           0.30621954807195056,
           0.14160193966335477,
           0.06602948759820293,
           0.31228506973424563,
           0.25295395823742634,
           -0.1001516773193428,
           0.03815305792276087,
           -0.01735480772387695,
           0.2072234192412417,
           0.032456384652681115,
           -0.05245689087311315,
           0.11785466588286815,
           -0.34514858842551155,
           0.39918210935064313,
           0.18273449226633698,
           0.14319665269437049,
           0.23033913782723175,
           -0.04610948721063701,
           0.23640045144212518,
           -0.015142010871898735,
           0.03831202035035939,
           0.281328950693038,
           0.034698986621882096
          ],
          [
           0.3762072815571744,
           1,
           0.870381151431974,
           0.19994499514506056,
           0.14277429318993012,
           0.6117049674483442,
           0.572667045658753,
           0.07076406074810242,
           0.2218293262924754,
           0.17749067810902894,
           0.22777291744381822,
           -0.03579321541653767,
           0.06370656774520306,
           0.4009535190376346,
           -0.20113532518913885,
           0.9575551416165349,
           0.4118436004951726,
           0.1274209165889101,
           0.21282849612399554,
           -0.2292099828734413,
           0.3658906423510739,
           -0.22016806313777385,
           0.05970274608520435,
           0.4275415260142869,
           -0.0898111787001552
          ],
          [
           0.30621954807195056,
           0.870381151431974,
           1,
           0.4157129200553555,
           0.4367144205106396,
           0.5559484879938081,
           0.4733782848572072,
           -0.21291044066507758,
           -0.013606464926705714,
           -0.09979800985984112,
           0.3341823379784929,
           0.008909117590229528,
           -0.17260177070218347,
           0.4232794014543807,
           -0.3242015973693896,
           0.8935773797279817,
           -0.06401387070131086,
           0.16228177194506935,
           0.3107152834338025,
           0.03933426316348394,
           -0.017976814962894223,
           0.029558261966748902,
           -0.11092940059280451,
           0.041324041919260784,
           0.008823493960290453
          ],
          [
           0.14160193966335477,
           0.19994499514506056,
           0.4157129200553555,
           1,
           0.9526880168171618,
           -0.018083910406933384,
           -0.15380291005766186,
           -0.60850275369516,
           -0.38750571370544945,
           -0.5167545623416976,
           0.15650606145722615,
           -0.007970604432882068,
           -0.432311150563871,
           -0.06555804257328501,
           -0.3931841486209618,
           0.3610602089582864,
           -0.34030265829922984,
           0.5756544320945396,
           0.38558749422927563,
           0.8319323074007432,
           -0.052817691372365846,
           0.8554048503421579,
           -0.39392146558419555,
           0.15373580276041013,
           0.19983061259122656
          ],
          [
           0.06602948759820293,
           0.14277429318993012,
           0.4367144205106396,
           0.9526880168171618,
           1,
           -0.03474627501030576,
           -0.16957059069602692,
           -0.6458578559448619,
           -0.4170907866845767,
           -0.5523271422884612,
           0.1770562306618346,
           0.01694664416475174,
           -0.46148065360484847,
           -0.04543450206019513,
           -0.38877835705146596,
           0.3038469684990364,
           -0.4849595845603748,
           0.4481861798954801,
           0.3680407097978779,
           0.8783876326919713,
           -0.2106340251482371,
           0.8422273734268626,
           -0.42411980958596585,
           -0.03200272998691555,
           0.21504330872784408
          ],
          [
           0.31228506973424563,
           0.6117049674483442,
           0.5559484879938081,
           -0.018083910406933384,
           -0.03474627501030576,
           1,
           0.9541439096446275,
           0.09219755135375736,
           0.19208693941604982,
           0.1668745774503101,
           0.242042192125149,
           0.021332237650335494,
           0.06841687691144271,
           0.4491629671804679,
           -0.08738130425175317,
           0.7402604700906192,
           0.20426010141351117,
           -0.00011721676349715571,
           0.2879875087132104,
           -0.29073958194762983,
           0.4864061318658333,
           -0.2870427934875848,
           0.6091726319329508,
           0.2813955797807114,
           -0.09937952403254449
          ],
          [
           0.25295395823742634,
           0.572667045658753,
           0.4733782848572072,
           -0.15380291005766186,
           -0.16957059069602692,
           0.9541439096446275,
           1,
           0.23491425581746028,
           0.28916823175603906,
           0.2921883247969508,
           0.17153538156231588,
           0.02215808235102893,
           0.17553531760082286,
           0.4545118353111503,
           0.010052097382794877,
           0.6682292719081688,
           0.2805074087861102,
           -0.08400699044639945,
           0.045402981999471605,
           -0.40936765967408895,
           0.5058312371832467,
           -0.40072334979678514,
           0.7205192704525839,
           0.24769476889836373,
           -0.16971898994667795
          ],
          [
           -0.1001516773193428,
           0.07076406074810242,
           -0.21291044066507758,
           -0.60850275369516,
           -0.6458578559448619,
           0.09219755135375736,
           0.23491425581746028,
           1,
           0.6661655925831864,
           0.8687135952929347,
           -0.37660970410969596,
           -0.11942963463357965,
           0.6040604112973137,
           -0.0036852815537964843,
           0.4794799725970615,
           -0.054725577537780755,
           0.5427997071864826,
           -0.39434558406179504,
           -0.3494650930148315,
           -0.6515426924162777,
           0.33038622487127384,
           -0.6183431982669769,
           0.39259650268432716,
           0.19691461184145076,
           -0.3785441713358736
          ],
          [
           0.03815305792276087,
           0.2218293262924754,
           -0.013606464926705714,
           -0.38750571370544945,
           -0.4170907866845767,
           0.19208693941604982,
           0.28916823175603906,
           0.6661655925831864,
           1,
           0.9481147521446106,
           -0.22657137369626584,
           -0.1302125855192594,
           0.5378293625994549,
           0.114484621935838,
           0.31608369438569883,
           0.1341165024322398,
           0.46143390084442354,
           -0.2383240779005734,
           -0.22647888950629722,
           -0.46940385942899987,
           0.3228828472137637,
           -0.45239263600340507,
           0.3077220963266617,
           0.232524329672674,
           -0.3089665954097545
          ],
          [
           -0.01735480772387695,
           0.17749067810902894,
           -0.09979800985984112,
           -0.5167545623416976,
           -0.5523271422884612,
           0.1668745774503101,
           0.2921883247969508,
           0.8687135952929347,
           0.9481147521446106,
           1,
           -0.3110188112076929,
           -0.13739037933285486,
           0.6146960933620067,
           0.07446229203579299,
           0.41431962129414723,
           0.06574257879649499,
           0.5378443718427114,
           -0.32504474975070313,
           -0.2992387323650208,
           -0.5894934909202643,
           0.35527808731967186,
           -0.5640431413107041,
           0.3717288813814585,
           0.23837025757364594,
           -0.36614195150479
          ],
          [
           0.2072234192412417,
           0.22777291744381822,
           0.3341823379784929,
           0.15650606145722615,
           0.1770562306618346,
           0.242042192125149,
           0.17153538156231588,
           -0.37660970410969596,
           -0.22657137369626584,
           -0.3110188112076929,
           1,
           0.2900231243583366,
           -0.3269692544128033,
           0.5639852747206092,
           -0.30364489867549627,
           0.2729453834140485,
           -0.15981780023965927,
           0.0990883175680128,
           0.18781513771612887,
           0.06040324790342374,
           -0.0936330400402852,
           0.04234125013909581,
           -0.059320703967756225,
           -0.0847265406314076,
           0.5738596870804719
          ],
          [
           0.032456384652681115,
           -0.03579321541653767,
           0.008909117590229528,
           -0.007970604432882068,
           0.01694664416475174,
           0.021332237650335494,
           0.02215808235102893,
           -0.11942963463357965,
           -0.1302125855192594,
           -0.13739037933285486,
           0.2900231243583366,
           1,
           -0.08663254964682392,
           0.16636025541779914,
           -0.019334576773767195,
           -0.021646622245075034,
           -0.09743154582969658,
           -0.013284385583600285,
           -0.022578546507184903,
           0.027061700101806172,
           -0.08624297423180843,
           0.006895768488751895,
           -0.014094974463676302,
           -0.09578863104908172,
           0.18086220846798756
          ],
          [
           -0.05245689087311315,
           0.06370656774520306,
           -0.17260177070218347,
           -0.432311150563871,
           -0.46148065360484847,
           0.06841687691144271,
           0.17553531760082286,
           0.6040604112973137,
           0.5378293625994549,
           0.6146960933620067,
           -0.3269692544128033,
           -0.08663254964682392,
           1,
           -0.013191669066074004,
           0.41766392821176057,
           -0.028179180328960333,
           0.4577784983987342,
           -0.25013843359429067,
           -0.28857100667501373,
           -0.4651897439292198,
           0.2977179870263501,
           -0.44484074145096947,
           0.2948926242754917,
           0.20744035490751575,
           -0.316661341570347
          ],
          [
           0.11785466588286815,
           0.4009535190376346,
           0.4232794014543807,
           -0.06555804257328501,
           -0.04543450206019513,
           0.4491629671804679,
           0.4545118353111503,
           -0.0036852815537964843,
           0.114484621935838,
           0.07446229203579299,
           0.5639852747206092,
           0.16636025541779914,
           -0.013191669066074004,
           1,
           0.054833033912554334,
           0.41228334390421945,
           0.0370788353469118,
           -0.058754696089944984,
           0.032330375129509856,
           -0.2483226930500248,
           0.05311621133124106,
           -0.26019215285369507,
           0.19706204507992645,
           -0.037855556978397126,
           -0.16762626425004631
          ],
          [
           -0.34514858842551155,
           -0.20113532518913885,
           -0.3242015973693896,
           -0.3931841486209618,
           -0.38877835705146596,
           -0.08738130425175317,
           0.010052097382794877,
           0.4794799725970615,
           0.31608369438569883,
           0.41431962129414723,
           -0.30364489867549627,
           -0.019334576773767195,
           0.41766392821176057,
           0.054833033912554334,
           1,
           -0.25968430563813644,
           0.19875665118212177,
           -0.26593876947221073,
           -0.267807377871434,
           -0.32199777876296964,
           0.10077187784870699,
           -0.31676322836326704,
           0.24388263196031912,
           -0.00876671946383032,
           -0.3313881431583677
          ],
          [
           0.39918210935064313,
           0.9575551416165349,
           0.8935773797279817,
           0.3610602089582864,
           0.3038469684990364,
           0.7402604700906192,
           0.6682292719081688,
           -0.054725577537780755,
           0.1341165024322398,
           0.06574257879649499,
           0.2729453834140485,
           -0.021646622245075034,
           -0.028179180328960333,
           0.41228334390421945,
           -0.25968430563813644,
           1,
           0.28726335396549185,
           0.21607276765053343,
           0.32632619670331264,
           -0.07097957956646687,
           0.40044150873471923,
           -0.05809886083979738,
           0.13753751135002065,
           0.4302946024035106,
           -0.05125152590393008
          ],
          [
           0.18273449226633698,
           0.4118436004951726,
           -0.06401387070131086,
           -0.34030265829922984,
           -0.4849595845603748,
           0.20426010141351117,
           0.2805074087861102,
           0.5427997071864826,
           0.46143390084442354,
           0.5378443718427114,
           -0.15981780023965927,
           -0.09743154582969658,
           0.4577784983987342,
           0.0370788353469118,
           0.19875665118212177,
           0.28726335396549185,
           1,
           -0.041209791035435595,
           -0.14837741261152826,
           -0.5548404527317371,
           0.8096444615470124,
           -0.5143705012531015,
           0.3378228883604045,
           0.8233507194921866,
           -0.21995377235882868
          ],
          [
           0.14319665269437049,
           0.1274209165889101,
           0.16228177194506935,
           0.5756544320945396,
           0.4481861798954801,
           -0.00011721676349715571,
           -0.08400699044639945,
           -0.39434558406179504,
           -0.2383240779005734,
           -0.32504474975070313,
           0.0990883175680128,
           -0.013284385583600285,
           -0.25013843359429067,
           -0.058754696089944984,
           -0.26593876947221073,
           0.21607276765053343,
           -0.041209791035435595,
           1,
           0.2565184816045981,
           0.43830081278247346,
           0.16293006718506692,
           0.5134742209763175,
           -0.22738083794332511,
           0.3016285770840006,
           0.1280340567095018
          ],
          [
           0.23033913782723175,
           0.21282849612399554,
           0.3107152834338025,
           0.38558749422927563,
           0.3680407097978779,
           0.2879875087132104,
           0.045402981999471605,
           -0.3494650930148315,
           -0.22647888950629722,
           -0.2992387323650208,
           0.18781513771612887,
           -0.022578546507184903,
           -0.28857100667501373,
           0.032330375129509856,
           -0.267807377871434,
           0.32632619670331264,
           -0.14837741261152826,
           0.2565184816045981,
           1,
           0.2933930439320068,
           0.0967745751658878,
           0.29750081156193253,
           -0.1535526553549625,
           0.20767261043557567,
           0.16718768676662546
          ],
          [
           -0.04610948721063701,
           -0.2292099828734413,
           0.03933426316348394,
           0.8319323074007432,
           0.8783876326919713,
           -0.29073958194762983,
           -0.40936765967408895,
           -0.6515426924162777,
           -0.46940385942899987,
           -0.5894934909202643,
           0.06040324790342374,
           0.027061700101806172,
           -0.4651897439292198,
           -0.2483226930500248,
           -0.32199777876296964,
           -0.07097957956646687,
           -0.5548404527317371,
           0.43830081278247346,
           0.2933930439320068,
           1,
           -0.27403396547004216,
           0.9604771105804735,
           -0.4823171609527277,
           -0.0805849593589869,
           0.2676608756638734
          ],
          [
           0.23640045144212518,
           0.3658906423510739,
           -0.017976814962894223,
           -0.052817691372365846,
           -0.2106340251482371,
           0.4864061318658333,
           0.5058312371832467,
           0.33038622487127384,
           0.3228828472137637,
           0.35527808731967186,
           -0.0936330400402852,
           -0.08624297423180843,
           0.2977179870263501,
           0.05311621133124106,
           0.10077187784870699,
           0.40044150873471923,
           0.8096444615470124,
           0.16293006718506692,
           0.0967745751658878,
           -0.27403396547004216,
           1,
           -0.22088087916544488,
           0.6268081972775037,
           0.9003066726750154,
           -0.1588242113315978
          ],
          [
           -0.015142010871898735,
           -0.22016806313777385,
           0.029558261966748902,
           0.8554048503421579,
           0.8422273734268626,
           -0.2870427934875848,
           -0.40072334979678514,
           -0.6183431982669769,
           -0.45239263600340507,
           -0.5640431413107041,
           0.04234125013909581,
           0.006895768488751895,
           -0.44484074145096947,
           -0.26019215285369507,
           -0.31676322836326704,
           -0.05809886083979738,
           -0.5143705012531015,
           0.5134742209763175,
           0.29750081156193253,
           0.9604771105804735,
           -0.22088087916544488,
           1,
           -0.4621957769781559,
           -0.024666483561167966,
           0.25879641254023406
          ],
          [
           0.03831202035035939,
           0.05970274608520435,
           -0.11092940059280451,
           -0.39392146558419555,
           -0.42411980958596585,
           0.6091726319329508,
           0.7205192704525839,
           0.39259650268432716,
           0.3077220963266617,
           0.3717288813814585,
           -0.059320703967756225,
           -0.014094974463676302,
           0.2948926242754917,
           0.19706204507992645,
           0.24388263196031912,
           0.13753751135002065,
           0.3378228883604045,
           -0.22738083794332511,
           -0.1535526553549625,
           -0.4823171609527277,
           0.6268081972775037,
           -0.4621957769781559,
           1,
           0.23230444975649686,
           -0.20976664557000463
          ],
          [
           0.281328950693038,
           0.4275415260142869,
           0.041324041919260784,
           0.15373580276041013,
           -0.03200272998691555,
           0.2813955797807114,
           0.24769476889836373,
           0.19691461184145076,
           0.232524329672674,
           0.23837025757364594,
           -0.0847265406314076,
           -0.09578863104908172,
           0.20744035490751575,
           -0.037855556978397126,
           -0.00876671946383032,
           0.4302946024035106,
           0.8233507194921866,
           0.3016285770840006,
           0.20767261043557567,
           -0.0805849593589869,
           0.9003066726750154,
           -0.024666483561167966,
           0.23230444975649686,
           1,
           -0.0867001427675999
          ],
          [
           0.034698986621882096,
           -0.0898111787001552,
           0.008823493960290453,
           0.19983061259122656,
           0.21504330872784408,
           -0.09937952403254449,
           -0.16971898994667795,
           -0.3785441713358736,
           -0.3089665954097545,
           -0.36614195150479,
           0.5738596870804719,
           0.18086220846798756,
           -0.316661341570347,
           -0.16762626425004631,
           -0.3313881431583677,
           -0.05125152590393008,
           -0.21995377235882868,
           0.1280340567095018,
           0.16718768676662546,
           0.2676608756638734,
           -0.1588242113315978,
           0.25879641254023406,
           -0.20976664557000463,
           -0.0867001427675999,
           1
          ]
         ]
        }
       ],
       "layout": {
        "coloraxis": {
         "colorscale": [
          [
           0,
           "#0d0887"
          ],
          [
           0.1111111111111111,
           "#46039f"
          ],
          [
           0.2222222222222222,
           "#7201a8"
          ],
          [
           0.3333333333333333,
           "#9c179e"
          ],
          [
           0.4444444444444444,
           "#bd3786"
          ],
          [
           0.5555555555555556,
           "#d8576b"
          ],
          [
           0.6666666666666666,
           "#ed7953"
          ],
          [
           0.7777777777777778,
           "#fb9f3a"
          ],
          [
           0.8888888888888888,
           "#fdca26"
          ],
          [
           1,
           "#f0f921"
          ]
         ]
        },
        "margin": {
         "t": 60
        },
        "template": {
         "data": {
          "bar": [
           {
            "error_x": {
             "color": "#2a3f5f"
            },
            "error_y": {
             "color": "#2a3f5f"
            },
            "marker": {
             "line": {
              "color": "#E5ECF6",
              "width": 0.5
             },
             "pattern": {
              "fillmode": "overlay",
              "size": 10,
              "solidity": 0.2
             }
            },
            "type": "bar"
           }
          ],
          "barpolar": [
           {
            "marker": {
             "line": {
              "color": "#E5ECF6",
              "width": 0.5
             },
             "pattern": {
              "fillmode": "overlay",
              "size": 10,
              "solidity": 0.2
             }
            },
            "type": "barpolar"
           }
          ],
          "carpet": [
           {
            "aaxis": {
             "endlinecolor": "#2a3f5f",
             "gridcolor": "white",
             "linecolor": "white",
             "minorgridcolor": "white",
             "startlinecolor": "#2a3f5f"
            },
            "baxis": {
             "endlinecolor": "#2a3f5f",
             "gridcolor": "white",
             "linecolor": "white",
             "minorgridcolor": "white",
             "startlinecolor": "#2a3f5f"
            },
            "type": "carpet"
           }
          ],
          "choropleth": [
           {
            "colorbar": {
             "outlinewidth": 0,
             "ticks": ""
            },
            "type": "choropleth"
           }
          ],
          "contour": [
           {
            "colorbar": {
             "outlinewidth": 0,
             "ticks": ""
            },
            "colorscale": [
             [
              0,
              "#0d0887"
             ],
             [
              0.1111111111111111,
              "#46039f"
             ],
             [
              0.2222222222222222,
              "#7201a8"
             ],
             [
              0.3333333333333333,
              "#9c179e"
             ],
             [
              0.4444444444444444,
              "#bd3786"
             ],
             [
              0.5555555555555556,
              "#d8576b"
             ],
             [
              0.6666666666666666,
              "#ed7953"
             ],
             [
              0.7777777777777778,
              "#fb9f3a"
             ],
             [
              0.8888888888888888,
              "#fdca26"
             ],
             [
              1,
              "#f0f921"
             ]
            ],
            "type": "contour"
           }
          ],
          "contourcarpet": [
           {
            "colorbar": {
             "outlinewidth": 0,
             "ticks": ""
            },
            "type": "contourcarpet"
           }
          ],
          "heatmap": [
           {
            "colorbar": {
             "outlinewidth": 0,
             "ticks": ""
            },
            "colorscale": [
             [
              0,
              "#0d0887"
             ],
             [
              0.1111111111111111,
              "#46039f"
             ],
             [
              0.2222222222222222,
              "#7201a8"
             ],
             [
              0.3333333333333333,
              "#9c179e"
             ],
             [
              0.4444444444444444,
              "#bd3786"
             ],
             [
              0.5555555555555556,
              "#d8576b"
             ],
             [
              0.6666666666666666,
              "#ed7953"
             ],
             [
              0.7777777777777778,
              "#fb9f3a"
             ],
             [
              0.8888888888888888,
              "#fdca26"
             ],
             [
              1,
              "#f0f921"
             ]
            ],
            "type": "heatmap"
           }
          ],
          "heatmapgl": [
           {
            "colorbar": {
             "outlinewidth": 0,
             "ticks": ""
            },
            "colorscale": [
             [
              0,
              "#0d0887"
             ],
             [
              0.1111111111111111,
              "#46039f"
             ],
             [
              0.2222222222222222,
              "#7201a8"
             ],
             [
              0.3333333333333333,
              "#9c179e"
             ],
             [
              0.4444444444444444,
              "#bd3786"
             ],
             [
              0.5555555555555556,
              "#d8576b"
             ],
             [
              0.6666666666666666,
              "#ed7953"
             ],
             [
              0.7777777777777778,
              "#fb9f3a"
             ],
             [
              0.8888888888888888,
              "#fdca26"
             ],
             [
              1,
              "#f0f921"
             ]
            ],
            "type": "heatmapgl"
           }
          ],
          "histogram": [
           {
            "marker": {
             "pattern": {
              "fillmode": "overlay",
              "size": 10,
              "solidity": 0.2
             }
            },
            "type": "histogram"
           }
          ],
          "histogram2d": [
           {
            "colorbar": {
             "outlinewidth": 0,
             "ticks": ""
            },
            "colorscale": [
             [
              0,
              "#0d0887"
             ],
             [
              0.1111111111111111,
              "#46039f"
             ],
             [
              0.2222222222222222,
              "#7201a8"
             ],
             [
              0.3333333333333333,
              "#9c179e"
             ],
             [
              0.4444444444444444,
              "#bd3786"
             ],
             [
              0.5555555555555556,
              "#d8576b"
             ],
             [
              0.6666666666666666,
              "#ed7953"
             ],
             [
              0.7777777777777778,
              "#fb9f3a"
             ],
             [
              0.8888888888888888,
              "#fdca26"
             ],
             [
              1,
              "#f0f921"
             ]
            ],
            "type": "histogram2d"
           }
          ],
          "histogram2dcontour": [
           {
            "colorbar": {
             "outlinewidth": 0,
             "ticks": ""
            },
            "colorscale": [
             [
              0,
              "#0d0887"
             ],
             [
              0.1111111111111111,
              "#46039f"
             ],
             [
              0.2222222222222222,
              "#7201a8"
             ],
             [
              0.3333333333333333,
              "#9c179e"
             ],
             [
              0.4444444444444444,
              "#bd3786"
             ],
             [
              0.5555555555555556,
              "#d8576b"
             ],
             [
              0.6666666666666666,
              "#ed7953"
             ],
             [
              0.7777777777777778,
              "#fb9f3a"
             ],
             [
              0.8888888888888888,
              "#fdca26"
             ],
             [
              1,
              "#f0f921"
             ]
            ],
            "type": "histogram2dcontour"
           }
          ],
          "mesh3d": [
           {
            "colorbar": {
             "outlinewidth": 0,
             "ticks": ""
            },
            "type": "mesh3d"
           }
          ],
          "parcoords": [
           {
            "line": {
             "colorbar": {
              "outlinewidth": 0,
              "ticks": ""
             }
            },
            "type": "parcoords"
           }
          ],
          "pie": [
           {
            "automargin": true,
            "type": "pie"
           }
          ],
          "scatter": [
           {
            "fillpattern": {
             "fillmode": "overlay",
             "size": 10,
             "solidity": 0.2
            },
            "type": "scatter"
           }
          ],
          "scatter3d": [
           {
            "line": {
             "colorbar": {
              "outlinewidth": 0,
              "ticks": ""
             }
            },
            "marker": {
             "colorbar": {
              "outlinewidth": 0,
              "ticks": ""
             }
            },
            "type": "scatter3d"
           }
          ],
          "scattercarpet": [
           {
            "marker": {
             "colorbar": {
              "outlinewidth": 0,
              "ticks": ""
             }
            },
            "type": "scattercarpet"
           }
          ],
          "scattergeo": [
           {
            "marker": {
             "colorbar": {
              "outlinewidth": 0,
              "ticks": ""
             }
            },
            "type": "scattergeo"
           }
          ],
          "scattergl": [
           {
            "marker": {
             "colorbar": {
              "outlinewidth": 0,
              "ticks": ""
             }
            },
            "type": "scattergl"
           }
          ],
          "scattermapbox": [
           {
            "marker": {
             "colorbar": {
              "outlinewidth": 0,
              "ticks": ""
             }
            },
            "type": "scattermapbox"
           }
          ],
          "scatterpolar": [
           {
            "marker": {
             "colorbar": {
              "outlinewidth": 0,
              "ticks": ""
             }
            },
            "type": "scatterpolar"
           }
          ],
          "scatterpolargl": [
           {
            "marker": {
             "colorbar": {
              "outlinewidth": 0,
              "ticks": ""
             }
            },
            "type": "scatterpolargl"
           }
          ],
          "scatterternary": [
           {
            "marker": {
             "colorbar": {
              "outlinewidth": 0,
              "ticks": ""
             }
            },
            "type": "scatterternary"
           }
          ],
          "surface": [
           {
            "colorbar": {
             "outlinewidth": 0,
             "ticks": ""
            },
            "colorscale": [
             [
              0,
              "#0d0887"
             ],
             [
              0.1111111111111111,
              "#46039f"
             ],
             [
              0.2222222222222222,
              "#7201a8"
             ],
             [
              0.3333333333333333,
              "#9c179e"
             ],
             [
              0.4444444444444444,
              "#bd3786"
             ],
             [
              0.5555555555555556,
              "#d8576b"
             ],
             [
              0.6666666666666666,
              "#ed7953"
             ],
             [
              0.7777777777777778,
              "#fb9f3a"
             ],
             [
              0.8888888888888888,
              "#fdca26"
             ],
             [
              1,
              "#f0f921"
             ]
            ],
            "type": "surface"
           }
          ],
          "table": [
           {
            "cells": {
             "fill": {
              "color": "#EBF0F8"
             },
             "line": {
              "color": "white"
             }
            },
            "header": {
             "fill": {
              "color": "#C8D4E3"
             },
             "line": {
              "color": "white"
             }
            },
            "type": "table"
           }
          ]
         },
         "layout": {
          "annotationdefaults": {
           "arrowcolor": "#2a3f5f",
           "arrowhead": 0,
           "arrowwidth": 1
          },
          "autotypenumbers": "strict",
          "coloraxis": {
           "colorbar": {
            "outlinewidth": 0,
            "ticks": ""
           }
          },
          "colorscale": {
           "diverging": [
            [
             0,
             "#8e0152"
            ],
            [
             0.1,
             "#c51b7d"
            ],
            [
             0.2,
             "#de77ae"
            ],
            [
             0.3,
             "#f1b6da"
            ],
            [
             0.4,
             "#fde0ef"
            ],
            [
             0.5,
             "#f7f7f7"
            ],
            [
             0.6,
             "#e6f5d0"
            ],
            [
             0.7,
             "#b8e186"
            ],
            [
             0.8,
             "#7fbc41"
            ],
            [
             0.9,
             "#4d9221"
            ],
            [
             1,
             "#276419"
            ]
           ],
           "sequential": [
            [
             0,
             "#0d0887"
            ],
            [
             0.1111111111111111,
             "#46039f"
            ],
            [
             0.2222222222222222,
             "#7201a8"
            ],
            [
             0.3333333333333333,
             "#9c179e"
            ],
            [
             0.4444444444444444,
             "#bd3786"
            ],
            [
             0.5555555555555556,
             "#d8576b"
            ],
            [
             0.6666666666666666,
             "#ed7953"
            ],
            [
             0.7777777777777778,
             "#fb9f3a"
            ],
            [
             0.8888888888888888,
             "#fdca26"
            ],
            [
             1,
             "#f0f921"
            ]
           ],
           "sequentialminus": [
            [
             0,
             "#0d0887"
            ],
            [
             0.1111111111111111,
             "#46039f"
            ],
            [
             0.2222222222222222,
             "#7201a8"
            ],
            [
             0.3333333333333333,
             "#9c179e"
            ],
            [
             0.4444444444444444,
             "#bd3786"
            ],
            [
             0.5555555555555556,
             "#d8576b"
            ],
            [
             0.6666666666666666,
             "#ed7953"
            ],
            [
             0.7777777777777778,
             "#fb9f3a"
            ],
            [
             0.8888888888888888,
             "#fdca26"
            ],
            [
             1,
             "#f0f921"
            ]
           ]
          },
          "colorway": [
           "#636efa",
           "#EF553B",
           "#00cc96",
           "#ab63fa",
           "#FFA15A",
           "#19d3f3",
           "#FF6692",
           "#B6E880",
           "#FF97FF",
           "#FECB52"
          ],
          "font": {
           "color": "#2a3f5f"
          },
          "geo": {
           "bgcolor": "white",
           "lakecolor": "white",
           "landcolor": "#E5ECF6",
           "showlakes": true,
           "showland": true,
           "subunitcolor": "white"
          },
          "hoverlabel": {
           "align": "left"
          },
          "hovermode": "closest",
          "mapbox": {
           "style": "light"
          },
          "paper_bgcolor": "white",
          "plot_bgcolor": "#E5ECF6",
          "polar": {
           "angularaxis": {
            "gridcolor": "white",
            "linecolor": "white",
            "ticks": ""
           },
           "bgcolor": "#E5ECF6",
           "radialaxis": {
            "gridcolor": "white",
            "linecolor": "white",
            "ticks": ""
           }
          },
          "scene": {
           "xaxis": {
            "backgroundcolor": "#E5ECF6",
            "gridcolor": "white",
            "gridwidth": 2,
            "linecolor": "white",
            "showbackground": true,
            "ticks": "",
            "zerolinecolor": "white"
           },
           "yaxis": {
            "backgroundcolor": "#E5ECF6",
            "gridcolor": "white",
            "gridwidth": 2,
            "linecolor": "white",
            "showbackground": true,
            "ticks": "",
            "zerolinecolor": "white"
           },
           "zaxis": {
            "backgroundcolor": "#E5ECF6",
            "gridcolor": "white",
            "gridwidth": 2,
            "linecolor": "white",
            "showbackground": true,
            "ticks": "",
            "zerolinecolor": "white"
           }
          },
          "shapedefaults": {
           "line": {
            "color": "#2a3f5f"
           }
          },
          "ternary": {
           "aaxis": {
            "gridcolor": "white",
            "linecolor": "white",
            "ticks": ""
           },
           "baxis": {
            "gridcolor": "white",
            "linecolor": "white",
            "ticks": ""
           },
           "bgcolor": "#E5ECF6",
           "caxis": {
            "gridcolor": "white",
            "linecolor": "white",
            "ticks": ""
           }
          },
          "title": {
           "x": 0.05
          },
          "xaxis": {
           "automargin": true,
           "gridcolor": "white",
           "linecolor": "white",
           "ticks": "",
           "title": {
            "standoff": 15
           },
           "zerolinecolor": "white",
           "zerolinewidth": 2
          },
          "yaxis": {
           "automargin": true,
           "gridcolor": "white",
           "linecolor": "white",
           "ticks": "",
           "title": {
            "standoff": 15
           },
           "zerolinecolor": "white",
           "zerolinewidth": 2
          }
         }
        },
        "xaxis": {
         "anchor": "y",
         "constrain": "domain",
         "domain": [
          0,
          1
         ],
         "scaleanchor": "y"
        },
        "yaxis": {
         "anchor": "x",
         "autorange": "reversed",
         "constrain": "domain",
         "domain": [
          0,
          1
         ]
        }
       }
      }
     },
     "metadata": {},
     "output_type": "display_data"
    }
   ],
   "source": [
    "\n",
    "total_cols = ['MIN', 'FGM', 'FGA', 'FG3M', 'FG3A', 'FTM', 'FTA',\n",
    "     'OREB', 'DREB', 'REB', 'AST', 'STL', 'BLK', 'TOV', 'PF', 'PTS', 'FG%', '3PT%', 'FT%', 'FG3A%', 'PTS/FGA', 'FG3M/FGM'\n",
    "     , 'FTA/FGA', 'TRU%', 'AST_TOV']\n",
    "\n",
    "data_per_min = data_per_min[(data_per_min['MIN']>=50)]\n",
    "df_corr = data_per_min[total_cols]\n",
    "df_corr.corr()\n",
    "\n",
    "fig = px.imshow(df_corr.corr())\n",
    "fig.show()\n"
   ]
  },
  {
   "cell_type": "code",
   "execution_count": null,
   "metadata": {},
   "outputs": [],
   "source": []
  }
 ],
 "metadata": {
  "kernelspec": {
   "display_name": "Python 3.11.5 64-bit",
   "language": "python",
   "name": "python3"
  },
  "language_info": {
   "codemirror_mode": {
    "name": "ipython",
    "version": 3
   },
   "file_extension": ".py",
   "mimetype": "text/x-python",
   "name": "python",
   "nbconvert_exporter": "python",
   "pygments_lexer": "ipython3",
   "version": "3.11.5"
  },
  "orig_nbformat": 4,
  "vscode": {
   "interpreter": {
    "hash": "aee8b7b246df8f9039afb4144a1f6fd8d2ca17a180786b69acc140d282b71a49"
   }
  }
 },
 "nbformat": 4,
 "nbformat_minor": 2
}
